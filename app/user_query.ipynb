{
 "cells": [
  {
   "cell_type": "code",
   "execution_count": 21,
   "metadata": {
    "ExecuteTime": {
     "end_time": "2018-07-14T10:21:03.107292Z",
     "start_time": "2018-07-14T10:21:03.104057Z"
    }
   },
   "outputs": [],
   "source": [
    "import numpy as np\n",
    "import pandas as pd\n",
    "import datetime as dt"
   ]
  },
  {
   "cell_type": "markdown",
   "metadata": {},
   "source": [
    "### Input"
   ]
  },
  {
   "cell_type": "code",
   "execution_count": 22,
   "metadata": {
    "ExecuteTime": {
     "end_time": "2018-07-14T10:21:03.649998Z",
     "start_time": "2018-07-14T10:21:03.646002Z"
    }
   },
   "outputs": [],
   "source": [
    "time = 1531686783 + 600\n",
    "station = 'Baclaran'"
   ]
  },
  {
   "cell_type": "markdown",
   "metadata": {},
   "source": [
    "### Source DataFrame"
   ]
  },
  {
   "cell_type": "code",
   "execution_count": 23,
   "metadata": {
    "ExecuteTime": {
     "end_time": "2018-07-14T10:21:05.393287Z",
     "start_time": "2018-07-14T10:21:05.367574Z"
    }
   },
   "outputs": [
    {
     "data": {
      "text/html": [
       "<div>\n",
       "<style scoped>\n",
       "    .dataframe tbody tr th:only-of-type {\n",
       "        vertical-align: middle;\n",
       "    }\n",
       "\n",
       "    .dataframe tbody tr th {\n",
       "        vertical-align: top;\n",
       "    }\n",
       "\n",
       "    .dataframe thead th {\n",
       "        text-align: right;\n",
       "    }\n",
       "</style>\n",
       "<table border=\"1\" class=\"dataframe\">\n",
       "  <thead>\n",
       "    <tr style=\"text-align: right;\">\n",
       "      <th></th>\n",
       "      <th>5th Avenue</th>\n",
       "      <th>Abad Santos</th>\n",
       "      <th>Baclaran</th>\n",
       "      <th>Balintawak</th>\n",
       "      <th>Bambang</th>\n",
       "      <th>Blumentritt</th>\n",
       "      <th>Carriedo</th>\n",
       "      <th>Central Terminal</th>\n",
       "      <th>Doroteo Jose</th>\n",
       "      <th>EDSA</th>\n",
       "      <th>Gil Puyat</th>\n",
       "      <th>Libertad</th>\n",
       "      <th>Monumento</th>\n",
       "      <th>Pedro Gil</th>\n",
       "      <th>Quirino</th>\n",
       "      <th>R Papa</th>\n",
       "      <th>Roosevelt</th>\n",
       "      <th>Tayuman</th>\n",
       "      <th>United Nations</th>\n",
       "      <th>Vito Cruz</th>\n",
       "    </tr>\n",
       "  </thead>\n",
       "  <tbody>\n",
       "    <tr>\n",
       "      <th>0</th>\n",
       "      <td>1531686600</td>\n",
       "      <td>1531686600</td>\n",
       "      <td>1531686600</td>\n",
       "      <td>1531686600</td>\n",
       "      <td>1531686600</td>\n",
       "      <td>1531686600</td>\n",
       "      <td>1531686600</td>\n",
       "      <td>1531686600</td>\n",
       "      <td>1531686600</td>\n",
       "      <td>1531686600</td>\n",
       "      <td>1531686600</td>\n",
       "      <td>1531686600</td>\n",
       "      <td>1531686600</td>\n",
       "      <td>1531686600</td>\n",
       "      <td>1531686600</td>\n",
       "      <td>1531686600</td>\n",
       "      <td>1531686600</td>\n",
       "      <td>1531686600</td>\n",
       "      <td>1531686600</td>\n",
       "      <td>1531686600</td>\n",
       "    </tr>\n",
       "    <tr>\n",
       "      <th>1</th>\n",
       "      <td>1531686783</td>\n",
       "      <td>1531686783</td>\n",
       "      <td>1531686783</td>\n",
       "      <td>1531686783</td>\n",
       "      <td>1531686783</td>\n",
       "      <td>1531686783</td>\n",
       "      <td>1531686783</td>\n",
       "      <td>1531686783</td>\n",
       "      <td>1531686783</td>\n",
       "      <td>1531686783</td>\n",
       "      <td>1531686783</td>\n",
       "      <td>1531686783</td>\n",
       "      <td>1531686783</td>\n",
       "      <td>1531686783</td>\n",
       "      <td>1531686783</td>\n",
       "      <td>1531686783</td>\n",
       "      <td>1531686783</td>\n",
       "      <td>1531686783</td>\n",
       "      <td>1531686783</td>\n",
       "      <td>1531686783</td>\n",
       "    </tr>\n",
       "  </tbody>\n",
       "</table>\n",
       "</div>"
      ],
      "text/plain": [
       "   5th Avenue  Abad Santos    Baclaran  Balintawak     Bambang  Blumentritt  \\\n",
       "0  1531686600   1531686600  1531686600  1531686600  1531686600   1531686600   \n",
       "1  1531686783   1531686783  1531686783  1531686783  1531686783   1531686783   \n",
       "\n",
       "     Carriedo  Central Terminal  Doroteo Jose        EDSA   Gil Puyat  \\\n",
       "0  1531686600        1531686600    1531686600  1531686600  1531686600   \n",
       "1  1531686783        1531686783    1531686783  1531686783  1531686783   \n",
       "\n",
       "     Libertad   Monumento   Pedro Gil     Quirino      R Papa   Roosevelt  \\\n",
       "0  1531686600  1531686600  1531686600  1531686600  1531686600  1531686600   \n",
       "1  1531686783  1531686783  1531686783  1531686783  1531686783  1531686783   \n",
       "\n",
       "      Tayuman  United Nations   Vito Cruz  \n",
       "0  1531686600      1531686600  1531686600  \n",
       "1  1531686783      1531686783  1531686783  "
      ]
     },
     "execution_count": 23,
     "metadata": {},
     "output_type": "execute_result"
    }
   ],
   "source": [
    "# when is the next train coming?\n",
    "df_schedule = pd.read_csv('train_schedules.csv')\n",
    "df_schedule.head(2)"
   ]
  },
  {
   "cell_type": "code",
   "execution_count": 24,
   "metadata": {
    "ExecuteTime": {
     "end_time": "2018-07-14T10:21:12.930593Z",
     "start_time": "2018-07-14T10:21:12.919749Z"
    }
   },
   "outputs": [
    {
     "data": {
      "text/html": [
       "<div>\n",
       "<style scoped>\n",
       "    .dataframe tbody tr th:only-of-type {\n",
       "        vertical-align: middle;\n",
       "    }\n",
       "\n",
       "    .dataframe tbody tr th {\n",
       "        vertical-align: top;\n",
       "    }\n",
       "\n",
       "    .dataframe thead th {\n",
       "        text-align: right;\n",
       "    }\n",
       "</style>\n",
       "<table border=\"1\" class=\"dataframe\">\n",
       "  <thead>\n",
       "    <tr style=\"text-align: right;\">\n",
       "      <th></th>\n",
       "      <th>start_station</th>\n",
       "      <th>end_station</th>\n",
       "      <th>distance</th>\n",
       "      <th>travel_time</th>\n",
       "    </tr>\n",
       "  </thead>\n",
       "  <tbody>\n",
       "    <tr>\n",
       "      <th>0</th>\n",
       "      <td>Baclaran</td>\n",
       "      <td>EDSA</td>\n",
       "      <td>0.588</td>\n",
       "      <td>1.764</td>\n",
       "    </tr>\n",
       "    <tr>\n",
       "      <th>1</th>\n",
       "      <td>Baclaran</td>\n",
       "      <td>Libertad</td>\n",
       "      <td>1.598</td>\n",
       "      <td>4.794</td>\n",
       "    </tr>\n",
       "    <tr>\n",
       "      <th>2</th>\n",
       "      <td>EDSA</td>\n",
       "      <td>Libertad</td>\n",
       "      <td>1.010</td>\n",
       "      <td>3.030</td>\n",
       "    </tr>\n",
       "  </tbody>\n",
       "</table>\n",
       "</div>"
      ],
      "text/plain": [
       "  start_station end_station  distance  travel_time\n",
       "0      Baclaran        EDSA     0.588        1.764\n",
       "1      Baclaran    Libertad     1.598        4.794\n",
       "2          EDSA    Libertad     1.010        3.030"
      ]
     },
     "execution_count": 24,
     "metadata": {},
     "output_type": "execute_result"
    }
   ],
   "source": [
    "# distances between stations\n",
    "df_distances = pd.read_csv('df_distances.csv')\n",
    "df_distances.head(3)"
   ]
  },
  {
   "cell_type": "code",
   "execution_count": 25,
   "metadata": {
    "ExecuteTime": {
     "end_time": "2018-07-14T10:22:40.027502Z",
     "start_time": "2018-07-14T10:22:39.994652Z"
    }
   },
   "outputs": [
    {
     "data": {
      "text/html": [
       "<div>\n",
       "<style scoped>\n",
       "    .dataframe tbody tr th:only-of-type {\n",
       "        vertical-align: middle;\n",
       "    }\n",
       "\n",
       "    .dataframe tbody tr th {\n",
       "        vertical-align: top;\n",
       "    }\n",
       "\n",
       "    .dataframe thead th {\n",
       "        text-align: right;\n",
       "    }\n",
       "</style>\n",
       "<table border=\"1\" class=\"dataframe\">\n",
       "  <thead>\n",
       "    <tr style=\"text-align: right;\">\n",
       "      <th></th>\n",
       "      <th>station</th>\n",
       "      <th>per_minute</th>\n",
       "      <th>card_num</th>\n",
       "      <th>timestamp</th>\n",
       "    </tr>\n",
       "  </thead>\n",
       "  <tbody>\n",
       "    <tr>\n",
       "      <th>0</th>\n",
       "      <td>5th Avenue</td>\n",
       "      <td>2018-07-16 01:00PM</td>\n",
       "      <td>6</td>\n",
       "      <td>1531717200</td>\n",
       "    </tr>\n",
       "    <tr>\n",
       "      <th>1</th>\n",
       "      <td>5th Avenue</td>\n",
       "      <td>2018-07-16 01:02PM</td>\n",
       "      <td>4</td>\n",
       "      <td>1531717320</td>\n",
       "    </tr>\n",
       "    <tr>\n",
       "      <th>2</th>\n",
       "      <td>5th Avenue</td>\n",
       "      <td>2018-07-16 01:03PM</td>\n",
       "      <td>5</td>\n",
       "      <td>1531717380</td>\n",
       "    </tr>\n",
       "  </tbody>\n",
       "</table>\n",
       "</div>"
      ],
      "text/plain": [
       "      station          per_minute  card_num   timestamp\n",
       "0  5th Avenue  2018-07-16 01:00PM         6  1531717200\n",
       "1  5th Avenue  2018-07-16 01:02PM         4  1531717320\n",
       "2  5th Avenue  2018-07-16 01:03PM         5  1531717380"
      ]
     },
     "execution_count": 25,
     "metadata": {},
     "output_type": "execute_result"
    }
   ],
   "source": [
    "# number of passengers waiting per minute per station\n",
    "df_queue = pd.read_csv('df_passengers_per_min_per_station.csv')\n",
    "df_queue.head(3)"
   ]
  },
  {
   "cell_type": "code",
   "execution_count": 51,
   "metadata": {
    "ExecuteTime": {
     "end_time": "2018-07-14T12:47:48.255634Z",
     "start_time": "2018-07-14T12:47:48.251072Z"
    }
   },
   "outputs": [
    {
     "data": {
      "text/plain": [
       "4"
      ]
     },
     "execution_count": 51,
     "metadata": {},
     "output_type": "execute_result"
    }
   ],
   "source": []
  },
  {
   "cell_type": "code",
   "execution_count": 53,
   "metadata": {
    "ExecuteTime": {
     "end_time": "2018-07-14T12:53:45.636235Z",
     "start_time": "2018-07-14T12:53:45.627610Z"
    }
   },
   "outputs": [],
   "source": [
    "# check load factor: light, moderate, heavy\n",
    "def check_load_factor(time, is_raining=False, is_weekday=True):\n",
    "    h = int(dt.datetime.fromtimestamp(time).strftime('%H'))\n",
    "    if (h >= 11 and h < 15) or (h >= 21):\n",
    "        return 'lightly'\n",
    "    elif (h < 7) or (h >= 9 and h < 11) or (h >= 15 and h < 16)\\\n",
    "        or (h >= 19 and h < 21):\n",
    "        return 'moderately'\n",
    "    else:\n",
    "        return 'heavy'"
   ]
  },
  {
   "cell_type": "code",
   "execution_count": 57,
   "metadata": {
    "ExecuteTime": {
     "end_time": "2018-07-14T12:54:38.549112Z",
     "start_time": "2018-07-14T12:54:38.476432Z"
    }
   },
   "outputs": [],
   "source": [
    "def query(time, station1, station2):\n",
    "    scheds =  df_schedule.loc[df_schedule.loc[:, station1]\n",
    "                              >= time, station1].iloc[:5]\n",
    "    scheds = scheds.apply(lambda x: dt.datetime.fromtimestamp(x)\\\n",
    "                                      .strftime('%I:%M%p')).values\n",
    "    \n",
    "    travel_time = df_distances.loc[(df_distances.start_station==station1)\n",
    "                                   & (df_distances.end_station==station2),\n",
    "                                   'travel_time'].values[0]\n",
    "    \n",
    "    queue_people = df_queue.loc[(df_queue.station==station) &\n",
    "                                (df_queue.timestamp >= time)]\\\n",
    "                            .sort_values('timestamp').head(15).card_num.sum()\n",
    "    \n",
    "    \n",
    "    queue = int((queue_people / 150) * 3 // 1)\n",
    "    \n",
    "    load_factor = check_load_factor(time)\n",
    "    \n",
    "    msg = 'Arrival schedules of the next '\n",
    "    msg += f'five trains in {station} station: '\n",
    "    msg += ', '.join(scheds[:-1])\n",
    "    msg += f', and {scheds[-1]}. '\n",
    "    msg += f'Expected waiting time from station is {queue} minutes. '\n",
    "    msg += f'Incoming trains are expected to be {load_factor} loaded. '\n",
    "    msg += f'Total travel time from {station1} to {station2} '\n",
    "    msg += f'is {int(np.round(travel_time))} minutes. '\n",
    "    msg += 'Ingat po sa byahe!'\n",
    "    \n",
    "    return msg.split('. ')"
   ]
  },
  {
   "cell_type": "code",
   "execution_count": 58,
   "metadata": {
    "ExecuteTime": {
     "end_time": "2018-07-14T12:54:38.881626Z",
     "start_time": "2018-07-14T12:54:38.868913Z"
    }
   },
   "outputs": [
    {
     "data": {
      "text/plain": [
       "['Arrival schedules of the next five trains in Baclaran station: 04:45AM, 04:48AM, 04:51AM, 04:54AM, and 04:57AM',\n",
       " 'Expected waiting time from station is 7 minutes',\n",
       " 'Incoming trains are expected to be moderately loaded',\n",
       " 'Total travel time from Baclaran to Roosevelt is 54 minutes',\n",
       " 'Ingat po sa byahe!']"
      ]
     },
     "execution_count": 58,
     "metadata": {},
     "output_type": "execute_result"
    }
   ],
   "source": [
    "query(time, 'Baclaran', 'Roosevelt')"
   ]
  },
  {
   "cell_type": "code",
   "execution_count": null,
   "metadata": {},
   "outputs": [],
   "source": []
  }
 ],
 "metadata": {
  "kernelspec": {
   "display_name": "Python 3",
   "language": "python",
   "name": "python3"
  },
  "language_info": {
   "codemirror_mode": {
    "name": "ipython",
    "version": 3
   },
   "file_extension": ".py",
   "mimetype": "text/x-python",
   "name": "python",
   "nbconvert_exporter": "python",
   "pygments_lexer": "ipython3",
   "version": "3.6.4"
  },
  "toc": {
   "nav_menu": {},
   "number_sections": false,
   "sideBar": true,
   "skip_h1_title": false,
   "title_cell": "Table of Contents",
   "title_sidebar": "Contents",
   "toc_cell": false,
   "toc_position": {
    "height": "calc(100% - 180px)",
    "left": "10px",
    "top": "150px",
    "width": "257px"
   },
   "toc_section_display": true,
   "toc_window_display": true
  }
 },
 "nbformat": 4,
 "nbformat_minor": 2
}
